{
  "nbformat": 4,
  "nbformat_minor": 0,
  "metadata": {
    "colab": {
      "name": "titanic.ipynb",
      "provenance": [],
      "collapsed_sections": [],
      "authorship_tag": "ABX9TyPDfc8AF+wxAaVvAcwqfnKY",
      "include_colab_link": true
    },
    "kernelspec": {
      "name": "python3",
      "display_name": "Python 3"
    },
    "language_info": {
      "name": "python"
    }
  },
  "cells": [
    {
      "cell_type": "markdown",
      "metadata": {
        "id": "view-in-github",
        "colab_type": "text"
      },
      "source": [
        "<a href=\"https://colab.research.google.com/github/RakshitTra/TitanicKaggle/blob/main/titanic.ipynb\" target=\"_parent\"><img src=\"https://colab.research.google.com/assets/colab-badge.svg\" alt=\"Open In Colab\"/></a>"
      ]
    },
    {
      "cell_type": "markdown",
      "metadata": {
        "id": "EtmKVIbB7OG4"
      },
      "source": [
        "This is going to be my first kaggle submission after so many years!!!"
      ]
    },
    {
      "cell_type": "code",
      "metadata": {
        "id": "vJlctWJS6LyU"
      },
      "source": [
        "hello"
      ],
      "execution_count": null,
      "outputs": []
    }
  ]
}